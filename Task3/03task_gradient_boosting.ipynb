{
 "cells": [
  {
   "cell_type": "markdown",
   "metadata": {},
   "source": [
    "With a lot of stuff from Konstantinos Barmpas' [notebook](https://github.com/KonstantinosBarmpas/Advanced-Machine-Learning-Projects/blob/master/Task%203/Task%203_AML.ipynb)."
   ]
  },
  {
   "cell_type": "markdown",
   "metadata": {},
   "source": [
    "### TASK 3: HEART RHYTHM CLASSIFICATION FROM RAW ECG SIGNALS\n",
    "\n",
    "While the previous projects dealt with medical image features, we turn now to the classification of entire time series into one of 4 classes. This time you will work with the original ECG recordings of different length sampled as 300Hz to predict heart rhythm."
   ]
  },
  {
   "cell_type": "code",
   "execution_count": 90,
   "metadata": {},
   "outputs": [],
   "source": [
    "# import libraries\n",
    "import biosppy\n",
    "import os\n",
    "import pywt\n",
    "import statistics\n",
    "import scipy.stats\n",
    "import sklearn.preprocessing\n",
    "import pandas as pd\n",
    "import numpy as np\n",
    "import tensorflow as tf\n",
    "from matplotlib import pyplot as plt"
   ]
  },
  {
   "cell_type": "code",
   "execution_count": 13,
   "metadata": {
    "id": "pR_SnbMArXr7"
   },
   "outputs": [
    {
     "name": "stderr",
     "output_type": "stream",
     "text": [
      "/Users/lau/opt/anaconda3/envs/latentspace/lib/python3.6/site-packages/IPython/core/interactiveshell.py:3063: DtypeWarning: Columns (17979) have mixed types.Specify dtype option on import or set low_memory=False.\n",
      "  interactivity=interactivity, compiler=compiler, result=result)\n"
     ]
    }
   ],
   "source": [
    "# load the data\n",
    "X_train_df = pd.read_csv('./data/X_train.csv')\n",
    "X_test_df = pd.read_csv('./data/X_test.csv')\n",
    "y_train_df = pd.read_csv('./data/y_train.csv')"
   ]
  },
  {
   "cell_type": "markdown",
   "metadata": {},
   "source": [
    "### Preprocessing"
   ]
  },
  {
   "cell_type": "code",
   "execution_count": 109,
   "metadata": {
    "id": "pR_SnbMArXr7"
   },
   "outputs": [
    {
     "name": "stdout",
     "output_type": "stream",
     "text": [
      "(5117, 17980) (5117,) (3411, 17979)\n"
     ]
    }
   ],
   "source": [
    "# copy data\n",
    "train_features = X_train_df.copy()\n",
    "test_features = X_test_df.copy()\n",
    "train_labels = y_train_df.copy()\n",
    "\n",
    "# merge labels to dataframe\n",
    "train_features['y'] = train_labels['y']\n",
    "\n",
    "# drop 'id' column\n",
    "train_features = train_features.drop(['id'], axis=1)\n",
    "test_features = test_features.drop(['id'], axis=1)\n",
    "\n",
    "# drop random strings\n",
    "train_features = train_features.replace(r'\\\\n', np.nan, regex=True)\n",
    "test_features = test_features.replace(r'\\\\n', np.nan, regex=True)\n",
    "\n",
    "# assign label vector\n",
    "train_labels = train_features['y']\n",
    "\n",
    "# make arrays out of the dataframes\n",
    "X_training = np.array(train_features)\n",
    "X_testing = np.array(test_features)\n",
    "y_training = np.array(train_labels)\n",
    "\n",
    "print(X_training.shape, y_training.shape, X_testing.shape)"
   ]
  },
  {
   "cell_type": "markdown",
   "metadata": {},
   "source": [
    "### Feature extraction"
   ]
  },
  {
   "cell_type": "code",
   "execution_count": 112,
   "metadata": {},
   "outputs": [],
   "source": [
    "def load_features(data): # data of type numpy array\n",
    "    #-------------------------------------------------\n",
    "    # FFT, power, average and autocorrelation\n",
    "    autocorr = list()\n",
    "    ptp = list()\n",
    "    avg = list()\n",
    "    fft = list()\n",
    "\n",
    "    for i in range(len(data)):\n",
    "\n",
    "        h = data[i]\n",
    "        h = h[~np.isnan(h)]\n",
    "\n",
    "        h_series = pd.Series(h)\n",
    "        corr = h_series.autocorr(lag=2)\n",
    "        autocorr.append(corr)\n",
    "\n",
    "        avg.append(np.average(h))\n",
    "        ptp.append(np.ptp(h))\n",
    "\n",
    "        f = np.fft.fft(h)\n",
    "        array = f[0:800]\n",
    "        n = 20\n",
    "        indices = array.argsort()[-n:][::-1]\n",
    "        fft.append(indices)\n",
    "\n",
    "    new_autocorr = np.transpose(np.array([autocorr]))\n",
    "    ptp = np.transpose(np.array([ptp]))\n",
    "    avg = np.transpose(np.array([avg]))\n",
    "    fft_np = np.array(fft)\n",
    "    print('autocorrelation.. done')\n",
    "    print('power.. done')\n",
    "    print('average.. done')\n",
    "    print('fourier transform.. done')\n",
    "    #-------------------------------------------------\n",
    "    # pad the sequences with 0\n",
    "    data_pad = np.nan_to_num(data, nan=0.0)\n",
    "    print('padding sequences.. done')\n",
    "    #-------------------------------------------------\n",
    "    # extract using biosppy\n",
    "    sr = 300 \n",
    "\n",
    "    ts_list = list()\n",
    "    filtered_list = list()\n",
    "    rpeaks_list = list()\n",
    "    templates_ts_list = list()\n",
    "    templates_list = list()\n",
    "    heart_rate_ts_list = list()\n",
    "    heart_rate_list = list()\n",
    "\n",
    "    for i in range(len(data_pad)):\n",
    "        sample = data_pad[i]\n",
    "        ts, filtered, rpeaks, templates_ts, templates, heart_rate_ts, heart_rate = biosppy.signals.ecg.ecg(\n",
    "            signal=sample, sampling_rate=sr, show=False)\n",
    "        ts_list.append(ts)\n",
    "        filtered_list.append(filtered)\n",
    "        rpeaks_list.append(rpeaks)\n",
    "        templates_ts_list.append(templates_ts)\n",
    "        templates_list.append(templates)\n",
    "        heart_rate_ts_list.append(heart_rate_ts)\n",
    "        heart_rate_list.append(heart_rate)\n",
    "    print('biosppy analysis.. done')\n",
    "    #-------------------------------------------------\n",
    "    # Normalize the data and find the average characteristic heartbeat of each patient\n",
    "    normalized_templates = list()\n",
    "    patients_heartbeats = list()\n",
    "\n",
    "    for i in range(len(templates_list)):\n",
    "        normalized_templates.append(sklearn.preprocessing.normalize(templates_list[i]))\n",
    "        patients_heartbeats.append(sum(normalized_templates[i])/len(normalized_templates[i]))\n",
    "    print('normalizing heartbeats.. done')\n",
    "    #-------------------------------------------------\n",
    "    # Extarct the peaks from characteristic heartbeat\n",
    "    P_list = list()\n",
    "    Q_list = list()\n",
    "    R_list = list()\n",
    "    S_list = list()\n",
    "    T_list = list()\n",
    "\n",
    "    for i in range(len(patients_heartbeats)):\n",
    "\n",
    "        patient_current = patients_heartbeats[i]\n",
    "\n",
    "        # Find the peak\n",
    "        index = np.where(patient_current==max(patient_current))\n",
    "        R = index[0]\n",
    "\n",
    "        # First-half\n",
    "        first_half = patient_current[0:R[0]]\n",
    "        index = np.where(patient_current==min(first_half[R[0]-30:R[0]]))\n",
    "        Q = index[0]\n",
    "\n",
    "        index = np.where(first_half[0:Q[0]]==max(first_half[0:Q[0]]))\n",
    "        P = index[0]\n",
    "\n",
    "        #Second half\n",
    "        second_half = patient_current[R[0]+1:] \n",
    "        index = np.where(patient_current==min(second_half[0:30]))\n",
    "        S = index[0]\n",
    "\n",
    "        second_half = second_half[S[0]-R[0]+1:]\n",
    "        index = np.where(patient_current==max(second_half))\n",
    "        T = index[0] \n",
    "\n",
    "        P_list.append(P[0])\n",
    "        Q_list.append(Q[0])\n",
    "        R_list.append(R[0])\n",
    "        S_list.append(S[0])\n",
    "        T_list.append(T[0])\n",
    "    print('extracting heartbeat peaks.. done')\n",
    "    #-------------------------------------------------\n",
    "    # Intervals and Ratios of peaks\n",
    "    PR_list = list()\n",
    "    QRS_list = list()\n",
    "    ST_list = list()\n",
    "\n",
    "    for i in range(len(P_list)):\n",
    "        PR_list.append(R_list[i] - P_list[i])\n",
    "        QRS_list.append(S_list[i] - Q_list[i])\n",
    "        ST_list.append(T_list[i] - S_list[i])\n",
    "\n",
    "    PR_list = np.array(PR_list).reshape(-1, 1)\n",
    "    QRS_list = np.array(QRS_list).reshape(-1, 1)\n",
    "    ST_list = np.array(ST_list).reshape(-1, 1)\n",
    "    P_list = np.array(P_list).reshape(-1, 1)\n",
    "    R_list = np.array(R_list).reshape(-1, 1)\n",
    "    S_list = np.array(S_list).reshape(-1, 1)\n",
    "    T_list = np.array(T_list).reshape(-1, 1)\n",
    "\n",
    "    QRS_T_list = np.divide(QRS_list, T_list) \n",
    "    QRS_P_list = np.divide(QRS_list, P_list) \n",
    "    QRS_T_list = np.nan_to_num(QRS_T_list, nan=0.0, posinf=0.0, neginf=0.0)\n",
    "    QRS_P_list = np.nan_to_num(QRS_P_list, nan=0.0, posinf=0.0, neginf=0.0)\n",
    "    print('calculating heartbeat ratios.. done')\n",
    "    #-------------------------------------------------\n",
    "    # Peaks mean, median, variant, mode and standard deviation\n",
    "    peaks_mean = list()\n",
    "    peaks_std = list()\n",
    "    peaks_median = list()\n",
    "    peaks_var = list()\n",
    "\n",
    "    for i in range(len(rpeaks_list)):\n",
    "        peaks_mean.append(np.mean(rpeaks_list[i]))\n",
    "        peaks_std.append(np.std(rpeaks_list[i]))\n",
    "        peaks_median.append(np.median(rpeaks_list[i]))\n",
    "        peaks_var.append(np.var(rpeaks_list[i]))\n",
    "    print('describe peaks.. done')\n",
    "    #-------------------------------------------------\n",
    "    # Timings of peaks mean, median, variant and standard deviation\n",
    "    ts_mean = list()\n",
    "    ts_std = list()\n",
    "    ts_median = list()\n",
    "    ts_var = list()\n",
    "\n",
    "    for i in range(len(ts_list)):\n",
    "        d = np.diff(ts_list[i])\n",
    "        ts_mean.append(np.mean(d))\n",
    "        ts_std.append(np.std(d))\n",
    "        ts_median.append(np.median(d))\n",
    "        ts_var.append(np.mean(d) - np.var(d))\n",
    "\n",
    "    ts_mean = np.nan_to_num(ts_mean, nan=0.0)\n",
    "    ts_std = np.nan_to_num(ts_std, nan=0.0)\n",
    "    ts_median = np.nan_to_num(ts_median, nan=0.0)\n",
    "    ts_var = np.nan_to_num(ts_var, nan=0.0)\n",
    "    print('describe peak timins.. done')\n",
    "    #-------------------------------------------------\n",
    "    # Range, Mean and Median of amplitudes\n",
    "    max_A = list()\n",
    "    min_A = list()\n",
    "    mean_A = list()\n",
    "    median_A = list()\n",
    "\n",
    "    for i in range(len(patients_heartbeats)):\n",
    "        patient_current = patients_heartbeats[i]\n",
    "        max_A.append(max(patient_current))\n",
    "        min_A.append(min(patient_current))\n",
    "        mean_A.append(np.mean(patient_current))\n",
    "        median_A.append(np.median(patient_current))\n",
    "    print('describe amplitudes.. done')\n",
    "    #-------------------------------------------------\n",
    "    # Heart rates mean, median, variant and standard deviation\n",
    "    hr_mean = list()\n",
    "    hr_std = list()\n",
    "    hr_median = list()\n",
    "    hr_var = list()\n",
    "\n",
    "    for i in range(len(heart_rate_list)):\n",
    "        d = np.diff(heart_rate_list[i])\n",
    "        hr_mean.append(np.mean(d))\n",
    "        hr_std.append(np.std(d))\n",
    "        hr_median.append(np.median(d))\n",
    "        hr_var.append(np.mean(d) - np.var(d))\n",
    "\n",
    "    hr_mean = np.nan_to_num(hr_mean, nan=0.0)\n",
    "    hr_std = np.nan_to_num(hr_std, nan=0.0)\n",
    "    hr_median = np.nan_to_num(hr_median, nan=0.0)\n",
    "    hr_var = np.nan_to_num(hr_var, nan=0.0)\n",
    "    print('describe heart rates.. done')\n",
    "    #-------------------------------------------------\n",
    "    # Timings of heart rates mean, median, variant and standard deviation\n",
    "    hr_ts_mean = list()\n",
    "    hr_ts_std = list()\n",
    "    hr_ts_median = list()\n",
    "    hr_ts_var = list()\n",
    "\n",
    "    for i in range(len(heart_rate_ts_list)):\n",
    "        d = np.diff(heart_rate_ts_list[i])\n",
    "        hr_ts_mean.append(np.mean(d))\n",
    "        hr_ts_std.append(np.std(d))\n",
    "        hr_ts_median.append(np.median(d))\n",
    "        hr_ts_var.append(np.mean(d) - np.var(d))\n",
    "\n",
    "    hr_ts_mean = np.nan_to_num(hr_ts_mean, nan=0.0)\n",
    "    hr_ts_std = np.nan_to_num(hr_ts_std, nan=0.0)\n",
    "    hr_ts_median = np.nan_to_num(hr_ts_median, nan=0.0)\n",
    "    hr_ts_var = np.nan_to_num(hr_ts_var, nan=0.0)\n",
    "    print('describe heartrate timings.. done')\n",
    "    #-------------------------------------------------\n",
    "    # Peaks differences mean, median, variant, mode and standard deviation\n",
    "    diff_mean = list()\n",
    "    diff_std = list()\n",
    "    diff_median = list()\n",
    "    diff_var = list()\n",
    "    #diff_dev = list()\n",
    "\n",
    "    for i in range(len(rpeaks_list)):\n",
    "        d = np.diff(rpeaks_list[i])\n",
    "        diff_mean.append(np.mean(d))\n",
    "        diff_std.append(np.std(d))\n",
    "        diff_median.append(np.median(d))\n",
    "        diff_var.append(np.mean(d) - np.var(d))\n",
    "        #diff_dev.append(np.mean(d) - statistics.pstdev(d))\n",
    "\n",
    "    diff_mean=np.nan_to_num(diff_mean, nan=0.0)\n",
    "    diff_std=np.nan_to_num(diff_std, nan=0.0)\n",
    "    diff_median=np.nan_to_num(diff_median, nan=0.0)\n",
    "    diff_var=np.nan_to_num(diff_var, nan=0.0)\n",
    "    #diff_dev=np.nan_to_num(diff_dev, nan=0.0)\n",
    "    print('describe peaks differences.. done')\n",
    "    #-------------------------------------------------\n",
    "    # db2 coefficients\n",
    "    cA_list = list()\n",
    "    cD_list = list()\n",
    "\n",
    "    for i in range(len(patients_heartbeats)):\n",
    "        cA, cD = pywt.dwt(patients_heartbeats[i], 'db2', mode='periodic')\n",
    "\n",
    "        cA_list.append(cA)\n",
    "        cD_list.append(cD)\n",
    "    print('db2 coefficients.. done')\n",
    "    #-------------------------------------------------\n",
    "    # Energy of the signal\n",
    "    energy_list = list()\n",
    "\n",
    "    for i in range(len(patients_heartbeats)):\n",
    "        energy_list.append(np.sum(patients_heartbeats[i] ** 2))\n",
    "    print('energy.. done')\n",
    "    #-------------------------------------------------\n",
    "    # collecting list-features\n",
    "    collect_feature_lists = [P_list, Q_list, R_list, S_list, T_list, peaks_mean, peaks_std,\n",
    "                             peaks_median, peaks_var, ts_mean, ts_std, ts_median, ts_var,\n",
    "                             max_A, min_A, mean_A, median_A, hr_mean, hr_std, hr_median,\n",
    "                             hr_var, hr_ts_mean, hr_ts_std, hr_ts_median, hr_ts_var, \n",
    "                             hr_ts_mean, hr_ts_std, hr_ts_median, hr_ts_var, diff_mean,\n",
    "                             diff_std, diff_median, diff_var, energy_list, new_autocorr, \n",
    "                             ptp, avg]\n",
    "    #-------------------------------------------------\n",
    "    # collecting array-features\n",
    "    collect_feature_arrays = [PR_list, QRS_list, ST_list, QRS_T_list, QRS_P_list, cA_list, cD_list, fft_np]\n",
    "    print('collecting.. done')\n",
    "    #-------------------------------------------------\n",
    "    # reshape list-features into arrays and append array-features\n",
    "    reshaped_features = list()\n",
    "    for i in range(len(collect_feature_lists)):\n",
    "        reshaped_features.append(np.array(collect_feature_lists[i]).reshape(-1, 1))\n",
    "\n",
    "    for i in range(len(collect_feature_arrays)):\n",
    "        reshaped_features.append(collect_feature_arrays[i])\n",
    "    print('reshaping.. done')\n",
    "    #-------------------------------------------------\n",
    "    # concatenate all features\n",
    "    X = np.concatenate(reshaped_features, axis=1)\n",
    "    print('concatenating.. done')\n",
    "    print('data shape : ', X.shape)\n",
    "    print('')\n",
    "    #-------------------------------------------------\n",
    "    return X"
   ]
  },
  {
   "cell_type": "code",
   "execution_count": 113,
   "metadata": {},
   "outputs": [
    {
     "name": "stdout",
     "output_type": "stream",
     "text": [
      "autocorrelation.. done\n",
      "power.. done\n",
      "average.. done\n",
      "fourier transform.. done\n",
      "padding sequences.. done\n",
      "biosppy analysis.. done\n",
      "normalizing heartbeats.. done\n",
      "extracting heartbeat peaks.. done\n",
      "calculating heartbeat ratios.. done\n"
     ]
    },
    {
     "name": "stderr",
     "output_type": "stream",
     "text": [
      "/Users/lau/opt/anaconda3/envs/latentspace/lib/python3.6/site-packages/ipykernel_launcher.py:131: RuntimeWarning: divide by zero encountered in true_divide\n"
     ]
    },
    {
     "name": "stdout",
     "output_type": "stream",
     "text": [
      "describe peaks.. done\n",
      "describe peak timins.. done\n",
      "describe amplitudes.. done\n"
     ]
    },
    {
     "name": "stderr",
     "output_type": "stream",
     "text": [
      "/Users/lau/opt/anaconda3/envs/latentspace/lib/python3.6/site-packages/numpy/core/fromnumeric.py:3335: RuntimeWarning: Mean of empty slice.\n",
      "  out=out, **kwargs)\n",
      "/Users/lau/opt/anaconda3/envs/latentspace/lib/python3.6/site-packages/numpy/core/_methods.py:161: RuntimeWarning: invalid value encountered in double_scalars\n",
      "  ret = ret.dtype.type(ret / rcount)\n",
      "/Users/lau/opt/anaconda3/envs/latentspace/lib/python3.6/site-packages/numpy/core/_methods.py:217: RuntimeWarning: Degrees of freedom <= 0 for slice\n",
      "  keepdims=keepdims)\n",
      "/Users/lau/opt/anaconda3/envs/latentspace/lib/python3.6/site-packages/numpy/core/_methods.py:186: RuntimeWarning: invalid value encountered in true_divide\n",
      "  arrmean, rcount, out=arrmean, casting='unsafe', subok=False)\n",
      "/Users/lau/opt/anaconda3/envs/latentspace/lib/python3.6/site-packages/numpy/core/_methods.py:209: RuntimeWarning: invalid value encountered in double_scalars\n",
      "  ret = ret.dtype.type(ret / rcount)\n",
      "/Users/lau/opt/anaconda3/envs/latentspace/lib/python3.6/site-packages/numpy/core/fromnumeric.py:3584: RuntimeWarning: Degrees of freedom <= 0 for slice\n",
      "  **kwargs)\n"
     ]
    },
    {
     "name": "stdout",
     "output_type": "stream",
     "text": [
      "describe heart rates.. done\n",
      "describe heartrate timings.. done\n",
      "describe peaks differences.. done\n",
      "db2 coefficients.. done\n",
      "energy.. done\n",
      "collecting.. done\n",
      "reshaping.. done\n",
      "concatenating.. done\n",
      "data shape :  (5117, 244)\n",
      "\n",
      "autocorrelation.. done\n",
      "power.. done\n",
      "average.. done\n",
      "fourier transform.. done\n",
      "padding sequences.. done\n",
      "biosppy analysis.. done\n",
      "normalizing heartbeats.. done\n",
      "extracting heartbeat peaks.. done\n"
     ]
    },
    {
     "name": "stderr",
     "output_type": "stream",
     "text": [
      "/Users/lau/opt/anaconda3/envs/latentspace/lib/python3.6/site-packages/ipykernel_launcher.py:131: RuntimeWarning: divide by zero encountered in true_divide\n"
     ]
    },
    {
     "name": "stdout",
     "output_type": "stream",
     "text": [
      "calculating heartbeat ratios.. done\n",
      "describe peaks.. done\n",
      "describe peak timins.. done\n",
      "describe amplitudes.. done\n"
     ]
    },
    {
     "name": "stderr",
     "output_type": "stream",
     "text": [
      "/Users/lau/opt/anaconda3/envs/latentspace/lib/python3.6/site-packages/numpy/core/fromnumeric.py:3335: RuntimeWarning: Mean of empty slice.\n",
      "  out=out, **kwargs)\n",
      "/Users/lau/opt/anaconda3/envs/latentspace/lib/python3.6/site-packages/numpy/core/_methods.py:161: RuntimeWarning: invalid value encountered in double_scalars\n",
      "  ret = ret.dtype.type(ret / rcount)\n",
      "/Users/lau/opt/anaconda3/envs/latentspace/lib/python3.6/site-packages/numpy/core/_methods.py:217: RuntimeWarning: Degrees of freedom <= 0 for slice\n",
      "  keepdims=keepdims)\n",
      "/Users/lau/opt/anaconda3/envs/latentspace/lib/python3.6/site-packages/numpy/core/_methods.py:186: RuntimeWarning: invalid value encountered in true_divide\n",
      "  arrmean, rcount, out=arrmean, casting='unsafe', subok=False)\n",
      "/Users/lau/opt/anaconda3/envs/latentspace/lib/python3.6/site-packages/numpy/core/_methods.py:209: RuntimeWarning: invalid value encountered in double_scalars\n",
      "  ret = ret.dtype.type(ret / rcount)\n",
      "/Users/lau/opt/anaconda3/envs/latentspace/lib/python3.6/site-packages/numpy/core/fromnumeric.py:3584: RuntimeWarning: Degrees of freedom <= 0 for slice\n",
      "  **kwargs)\n"
     ]
    },
    {
     "name": "stdout",
     "output_type": "stream",
     "text": [
      "describe heart rates.. done\n",
      "describe heartrate timings.. done\n",
      "describe peaks differences.. done\n",
      "db2 coefficients.. done\n",
      "energy.. done\n",
      "collecting.. done\n",
      "reshaping.. done\n",
      "concatenating.. done\n",
      "data shape :  (3411, 244)\n",
      "\n"
     ]
    }
   ],
   "source": [
    "X_train = load_features(X_training)\n",
    "X_test = load_features(X_testing)"
   ]
  },
  {
   "cell_type": "markdown",
   "metadata": {},
   "source": [
    "### Training preparation"
   ]
  },
  {
   "cell_type": "code",
   "execution_count": 121,
   "metadata": {},
   "outputs": [],
   "source": [
    "from sklearn.preprocessing import StandardScaler"
   ]
  },
  {
   "cell_type": "code",
   "execution_count": 122,
   "metadata": {},
   "outputs": [],
   "source": [
    "scaler = StandardScaler()\n",
    "X_train_scaled = scaler.fit_transform(X_train, y_train)\n",
    "X_test_scaler = scaler.transform(X_test)"
   ]
  },
  {
   "cell_type": "markdown",
   "metadata": {},
   "source": [
    "### Training"
   ]
  },
  {
   "cell_type": "code",
   "execution_count": 123,
   "metadata": {},
   "outputs": [],
   "source": [
    "from sklearn.ensemble import GradientBoostingClassifier\n",
    "from sklearn.model_selection import cross_val_score"
   ]
  },
  {
   "cell_type": "code",
   "execution_count": 134,
   "metadata": {},
   "outputs": [],
   "source": [
    "seed = 23\n",
    "estimator = GradientBoostingClassifier(learning_rate=0.05, n_estimators=500, max_depth=10,\n",
    "                                       min_samples_split=40, min_samples_leaf=4, max_features='sqrt',\n",
    "                                       random_state=seed)\n",
    "cross_validation = cross_val_score(estimator, X_train, y_training, cv=5, n_jobs=-1, scoring='f1_micro')"
   ]
  },
  {
   "cell_type": "code",
   "execution_count": 135,
   "metadata": {},
   "outputs": [
    {
     "name": "stdout",
     "output_type": "stream",
     "text": [
      "f1: 0.8079 (+/- 0.0236)\n"
     ]
    }
   ],
   "source": [
    "print(\"f1: %0.4f (+/- %0.4f)\" % (cross_validation.mean(), cross_validation.std() * 2))"
   ]
  },
  {
   "cell_type": "markdown",
   "metadata": {},
   "source": [
    "### Feature importance analysis"
   ]
  },
  {
   "cell_type": "code",
   "execution_count": 97,
   "metadata": {},
   "outputs": [],
   "source": [
    "training = estimator.fit(X_train, y_training)"
   ]
  },
  {
   "cell_type": "code",
   "execution_count": 100,
   "metadata": {},
   "outputs": [
    {
     "data": {
      "text/plain": [
       "[<matplotlib.lines.Line2D at 0x7fd69961eb00>]"
      ]
     },
     "execution_count": 100,
     "metadata": {},
     "output_type": "execute_result"
    },
    {
     "data": {
      "image/png": "[encoded data removed]",
      "text/plain": [
       "<Figure size 432x288 with 1 Axes>"
      ]
     },
     "metadata": {
      "needs_background": "light"
     },
     "output_type": "display_data"
    }
   ],
   "source": [
    "best_params = training.feature_importances_\n",
    "plt.plot(best_params)"
   ]
  },
  {
   "cell_type": "markdown",
   "metadata": {},
   "source": [
    "### Predict on test set"
   ]
  },
  {
   "cell_type": "code",
   "execution_count": 136,
   "metadata": {},
   "outputs": [
    {
     "data": {
      "text/plain": [
       "GradientBoostingClassifier(learning_rate=0.05, max_depth=10,\n",
       "                           max_features='sqrt', min_samples_leaf=4,\n",
       "                           min_samples_split=40, n_estimators=500,\n",
       "                           random_state=23)"
      ]
     },
     "execution_count": 136,
     "metadata": {},
     "output_type": "execute_result"
    }
   ],
   "source": [
    "estimator.fit(X_train, y_training)"
   ]
  },
  {
   "cell_type": "code",
   "execution_count": 137,
   "metadata": {},
   "outputs": [],
   "source": [
    "prediction = estimator.predict(X_test)"
   ]
  },
  {
   "cell_type": "code",
   "execution_count": 138,
   "metadata": {},
   "outputs": [],
   "source": [
    "ID = np.array(range(len(prediction)))\n",
    "df = pd.DataFrame({'id': ID,\n",
    "                    'y': prediction})\n",
    "name = '03_standard_scaled.csv'\n",
    "path = os.path.join('.', name)\n",
    "df.to_csv(path, index=False)"
   ]
  },
  {
   "cell_type": "markdown",
   "metadata": {},
   "source": [
    "### Result"
   ]
  },
  {
   "cell_type": "markdown",
   "metadata": {},
   "source": [
    "| F-measure (micro) | |\n",
    ":- | :-\n",
    "hard baseline | 0.82\n",
    "public test set | 0.8147\n",
    "private test set | 0.8259"
   ]
  },
  {
   "cell_type": "code",
   "execution_count": null,
   "metadata": {},
   "outputs": [],
   "source": []
  }
 ],
 "metadata": {
  "kernelspec": {
   "display_name": "latentspace",
   "language": "python",
   "name": "latentspace"
  },
  "language_info": {
   "codemirror_mode": {
    "name": "ipython",
    "version": 3
   },
   "file_extension": ".py",
   "mimetype": "text/x-python",
   "name": "python",
   "nbconvert_exporter": "python",
   "pygments_lexer": "ipython3",
   "version": "3.6.10"
  }
 },
 "nbformat": 4,
 "nbformat_minor": 4
}

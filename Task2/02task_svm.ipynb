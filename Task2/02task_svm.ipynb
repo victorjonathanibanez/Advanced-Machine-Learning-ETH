{
 "cells": [
  {
   "cell_type": "markdown",
   "metadata": {},
   "source": [
    "### TASK 2: DISEASE CLASSIFICATION FROM IMAGE FEATURES\n",
    "\n",
    "This task is primarily concerned with multi-class classification where you have 3 classes. However, we have changed the original image features in several ways. You will need to deal with class imbalance; in the training set, there are 600 examples from class 0 and 2 but 3600 examples from class 1. Test set has the same class imbalance as the training set."
   ]
  },
  {
   "cell_type": "code",
   "execution_count": 166,
   "metadata": {},
   "outputs": [],
   "source": [
    "import math\n",
    "import time\n",
    "import random\n",
    "import sys\n",
    "import os\n",
    "import pandas as pd\n",
    "import numpy as np\n",
    "from matplotlib import pyplot as plt\n",
    "\n",
    "import sklearn\n",
    "from sklearn import svm\n",
    "from sklearn.metrics import balanced_accuracy_score\n",
    "from sklearn.metrics import plot_confusion_matrix\n",
    "from sklearn.preprocessing import StandardScaler\n",
    "from sklearn.preprocessing import MinMaxScaler\n",
    "from sklearn.feature_selection import SelectKBest\n",
    "from sklearn.feature_selection import f_classif\n",
    "from sklearn.feature_selection import chi2\n",
    "from sklearn.model_selection import StratifiedKFold\n",
    "from sklearn.model_selection import GridSearchCV\n",
    "from sklearn.model_selection import RandomizedSearchCV"
   ]
  },
  {
   "cell_type": "code",
   "execution_count": 2,
   "metadata": {
    "id": "pR_SnbMArXr7"
   },
   "outputs": [],
   "source": [
    "X_train = pd.read_csv('./data/X_train.csv')\n",
    "y_train = pd.read_csv('./data/y_train.csv')\n",
    "X_train['y'] = y_train['y']\n",
    "raw_df = X_train.drop(['id'], axis=1)"
   ]
  },
  {
   "cell_type": "code",
   "execution_count": 3,
   "metadata": {
    "id": "Ef42jTuxEjnj"
   },
   "outputs": [],
   "source": [
    "df = raw_df.copy()\n",
    "all_labels = np.array(df.loc[:, 'y'])\n",
    "\n",
    "# extract labels\n",
    "y = np.array(df.pop('y'))\n",
    "\n",
    "# extract features\n",
    "X = np.array(df)"
   ]
  },
  {
   "cell_type": "markdown",
   "metadata": {
    "id": "xWKB_CVZFLpB"
   },
   "source": [
    "### Explore the data and class label imbalance\n",
    "\n",
    "Let's look at the dataset imbalance:"
   ]
  },
  {
   "cell_type": "code",
   "execution_count": null,
   "metadata": {
    "id": "HCJFrtuY2iLF"
   },
   "outputs": [],
   "source": [
    "cls0, cls1, cls2 = np.bincount(raw_df['y'])\n",
    "total = cls0 + cls1 + cls2\n",
    "print('Samples:\\n    Total: {}\\n \\\n",
    "      Class 0: {} ({:.2f}% of total)\\n \\\n",
    "      Class 1: {} ({:.2f}% of total)\\n \\\n",
    "      Class 2: {} ({:.2f}% of total)'.format(total, cls0, 100*cls0/total, cls1, 100*cls1/total, cls2, 100*cls2/total))"
   ]
  },
  {
   "cell_type": "code",
   "execution_count": null,
   "metadata": {},
   "outputs": [],
   "source": [
    "def plot_stats(stats):\n",
    "    means = stats.loc['mean', :]\n",
    "    stds = stats.loc['std', :]\n",
    "    mins = stats.loc['min', :]\n",
    "    maxs = stats.loc['max', :]\n",
    "\n",
    "    fig, axs = plt.subplots(nrows=2, ncols=2, figsize=(13,5))\n",
    "    axs[0][0].hist(means, bins=100)\n",
    "    axs[0][0].set_title('Means')\n",
    "    axs[0][1].hist(stds, bins=100)\n",
    "    axs[0][1].set_title('Stand divs.')\n",
    "    axs[1][0].hist(maxs, bins=100)\n",
    "    axs[1][0].set_title('Max')\n",
    "    axs[1][1].hist(mins, bins=100)\n",
    "    axs[1][1].set_title('Min')\n",
    "\n",
    "    fig.tight_layout(pad=1.0)\n",
    "    \n",
    "stat_df = raw_df.copy()\n",
    "desc = stat_df[stat_df.drop(['y'], axis=1).columns.tolist()].describe()\n",
    "plot_stats(desc)"
   ]
  },
  {
   "cell_type": "code",
   "execution_count": null,
   "metadata": {},
   "outputs": [],
   "source": [
    "# get labels\n",
    "labels = np.array(stat_df['y'])\n",
    "\n",
    "# get boolean arrays to split classes\n",
    "cls0_bool = labels == 0\n",
    "cls1_bool = labels == 1\n",
    "cls2_bool = labels == 2\n",
    "\n",
    "# split classes\n",
    "cls0_df = stat_df[cls0_bool]\n",
    "cls1_df = stat_df[cls1_bool]\n",
    "cls2_df = stat_df[cls2_bool]\n",
    "\n",
    "# get statistics from the different classes\n",
    "desc_cls0 = cls0_df[cls0_df.drop(['y'], axis=1).columns.tolist()].describe()\n",
    "desc_cls1 = cls1_df[cls1_df.drop(['y'], axis=1).columns.tolist()].describe()\n",
    "desc_cls2 = cls2_df[cls2_df.drop(['y'], axis=1).columns.tolist()].describe()"
   ]
  },
  {
   "cell_type": "markdown",
   "metadata": {},
   "source": [
    "Let's plot the statistics about the features from the different classes:"
   ]
  },
  {
   "cell_type": "code",
   "execution_count": null,
   "metadata": {},
   "outputs": [],
   "source": [
    "def plot_classes(stat0, stat1, stat2):\n",
    "    mean0, mean1, mean2 = desc_cls0.loc['mean', :], desc_cls1.loc['mean', :], desc_cls2.loc['mean', :]\n",
    "    std0, std1, std2 = desc_cls0.loc['std', :], desc_cls1.loc['std', :], desc_cls2.loc['std', :]\n",
    "    max0, max1, max2 = desc_cls0.loc['max', :], desc_cls1.loc['max', :], desc_cls2.loc['max', :]\n",
    "    min0, min1, min2 = desc_cls0.loc['min', :], desc_cls1.loc['min', :], desc_cls2.loc['min', :]\n",
    "    \n",
    "    fig, axs = plt.subplots(ncols=3, nrows=4, figsize=(8,6))\n",
    "    axs[0][0].hist(mean0, bins=100, color='c')\n",
    "    axs[0][0].set_title('Mean class 0')\n",
    "    axs[0][1].hist(mean1, bins=100, color='m')\n",
    "    axs[0][1].set_title('Mean class 1')\n",
    "    axs[0][2].hist(mean2, bins=100, color='y')\n",
    "    axs[0][2].set_title('Mean class 2')\n",
    "\n",
    "    axs[1][0].hist(std0, bins=100, color='c')\n",
    "    axs[1][0].set_title('Std class 0')\n",
    "    axs[1][1].hist(std1, bins=100, color='m')\n",
    "    axs[1][1].set_title('Std class 1')\n",
    "    axs[1][2].hist(std2, bins=100, color='y')\n",
    "    axs[1][2].set_title('Std class 2')\n",
    "\n",
    "    axs[2][0].hist(max0, bins=100, color='c')\n",
    "    axs[2][0].set_title('Max class 0')\n",
    "    axs[2][1].hist(max1, bins=100, color='m')\n",
    "    axs[2][1].set_title('Max class 1')\n",
    "    axs[2][2].hist(max2, bins=100, color='y')\n",
    "    axs[2][2].set_title('Max class 2')\n",
    "\n",
    "    axs[3][0].hist(min0, bins=100, color='c')\n",
    "    axs[3][0].set_title('Min class 0')\n",
    "    axs[3][1].hist(min1, bins=100, color='m')\n",
    "    axs[3][1].set_title('Min class 1')\n",
    "    axs[3][2].hist(min2, bins=100, color='y')\n",
    "    axs[3][2].set_title('Min class 2')\n",
    "\n",
    "    fig.tight_layout(pad=1.0)\n",
    "    \n",
    "\n",
    "plot_classes(desc_cls0, desc_cls1, desc_cls2)"
   ]
  },
  {
   "cell_type": "markdown",
   "metadata": {},
   "source": [
    "### Transform data"
   ]
  },
  {
   "cell_type": "code",
   "execution_count": null,
   "metadata": {},
   "outputs": [],
   "source": [
    "scaler = MinMaxScaler()\n",
    "stat_trans = raw_df.copy()\n",
    "trans_array = scaler.fit_transform(stat_trans[stat_trans.drop(['y'], axis=1).columns.tolist()])\n",
    "trans_df = pd.DataFrame(data=trans_array, columns=stat_trans.drop(['y'], axis=1).columns.tolist())\n",
    "trans_desc = trans_df.describe()"
   ]
  },
  {
   "cell_type": "code",
   "execution_count": null,
   "metadata": {},
   "outputs": [],
   "source": [
    "plot_stats(trans_desc)"
   ]
  },
  {
   "cell_type": "markdown",
   "metadata": {},
   "source": [
    "### Random Search"
   ]
  },
  {
   "cell_type": "code",
   "execution_count": null,
   "metadata": {},
   "outputs": [],
   "source": [
    "scaler = MinMaxScaler()\n",
    "X = scaler.fit_transform(X)"
   ]
  },
  {
   "cell_type": "code",
   "execution_count": null,
   "metadata": {},
   "outputs": [],
   "source": [
    "fs = SelectKBest(k=800)\n",
    "fs.fit(X, y)\n",
    "X = fs.transform(X)"
   ]
  },
  {
   "cell_type": "code",
   "execution_count": null,
   "metadata": {},
   "outputs": [],
   "source": [
    "C = [0.01, 0.1, 0.4, 0.8]\n",
    "kernel = ['linear', 'rbf', 'poly', 'sigmoid']\n",
    "gamma = [0.1, 0.2, 0.4]\n",
    "degree = [0, 1, 2, 3, 4, 5, 6]\n",
    "tol = [0.1, 0.01, 0.001, 0.0001]\n",
    "decision_function_shape = ['ovr', 'ovo']\n",
    "\n",
    "random_grid = {'C': C,\n",
    "               'kernel': kernel,\n",
    "               'gamma': gamma,\n",
    "               'degree': degree,\n",
    "               'tol': tol,\n",
    "               'decision_function_shape': decision_function_shape}"
   ]
  },
  {
   "cell_type": "code",
   "execution_count": null,
   "metadata": {},
   "outputs": [],
   "source": [
    "seed = 5\n",
    "est = svm.SVC(class_weight='balanced', random_state=seed)\n",
    "search = RandomizedSearchCV(estimator = est,\n",
    "                            param_distributions = random_grid,\n",
    "                            n_iter = 100,\n",
    "                            cv = 3,\n",
    "                            verbose = 1,\n",
    "                            n_jobs = -1,\n",
    "                            scoring='balanced_accuracy')\n",
    "search.fit(X, y)\n",
    "search.best_params_"
   ]
  },
  {
   "cell_type": "code",
   "execution_count": null,
   "metadata": {},
   "outputs": [],
   "source": [
    "search.cv_results_"
   ]
  },
  {
   "cell_type": "markdown",
   "metadata": {},
   "source": [
    "### Finetune hyperparameters"
   ]
  },
  {
   "cell_type": "code",
   "execution_count": 4,
   "metadata": {},
   "outputs": [],
   "source": [
    "scaler = MinMaxScaler()\n",
    "X = scaler.fit_transform(X)"
   ]
  },
  {
   "cell_type": "code",
   "execution_count": 238,
   "metadata": {},
   "outputs": [],
   "source": [
    "search_weights = [{0: 3.2, 1: 0.44444444, 2: 3.05},\n",
    "                  {0: 3.05, 1: 0.44444444, 2: 3.2}]\n",
    "parameter_grid = {'class_weight': search_weights}"
   ]
  },
  {
   "cell_type": "code",
   "execution_count": 239,
   "metadata": {},
   "outputs": [],
   "source": [
    "seed = 77\n",
    "est = svm.SVC(random_state=seed,\n",
    "              kernel='rbf',\n",
    "              tol=0.001,\n",
    "              gamma=0.057,\n",
    "              degree=6,\n",
    "              decision_function_shape='ovo',\n",
    "              C=0.6225)\n",
    "skf = StratifiedKFold(n_splits=5, shuffle=True, random_state=seed)"
   ]
  },
  {
   "cell_type": "code",
   "execution_count": 240,
   "metadata": {},
   "outputs": [
    {
     "data": {
      "text/plain": [
       "GridSearchCV(cv=StratifiedKFold(n_splits=5, random_state=77, shuffle=True),\n",
       "             estimator=SVC(C=0.6225, decision_function_shape='ovo', degree=6,\n",
       "                           gamma=0.057, random_state=77),\n",
       "             n_jobs=-1,\n",
       "             param_grid={'class_weight': [{0: 3.3, 1: 0.44444444, 2: 3.05},\n",
       "                                          {0: 3.2, 1: 0.44444444, 2: 3.05},\n",
       "                                          {0: 3.1, 1: 0.44444444, 2: 3.05}]},\n",
       "             scoring='balanced_accuracy')"
      ]
     },
     "execution_count": 240,
     "metadata": {},
     "output_type": "execute_result"
    }
   ],
   "source": [
    "tuning = GridSearchCV(est, parameter_grid, cv=skf, n_jobs=-1, scoring='balanced_accuracy')\n",
    "tuning.fit(X, y)"
   ]
  },
  {
   "cell_type": "code",
   "execution_count": 241,
   "metadata": {},
   "outputs": [
    {
     "name": "stdout",
     "output_type": "stream",
     "text": [
      "Best parameters set found on development set:\n",
      "0.7007407407407407\n",
      "{'class_weight': {0: 3.1, 1: 0.44444444, 2: 3.05}}\n",
      "\n",
      "Grid scores on development set:\n",
      "0.699722 (+/-0.0318) for {'class_weight': {0: 3.3, 1: 0.44444444, 2: 3.05}}\n",
      "0.700648 (+/-0.0284) for {'class_weight': {0: 3.2, 1: 0.44444444, 2: 3.05}}\n",
      "0.700741 (+/-0.0274) for {'class_weight': {0: 3.1, 1: 0.44444444, 2: 3.05}}\n"
     ]
    }
   ],
   "source": [
    "print(\"Best parameters set found on development set:\")\n",
    "print(tuning.best_score_)\n",
    "print(tuning.best_params_)\n",
    "print()\n",
    "print(\"Grid scores on development set:\")\n",
    "means = tuning.cv_results_['mean_test_score']\n",
    "stds = tuning.cv_results_['std_test_score']\n",
    "for mean, std, params in zip(means, stds, tuning.cv_results_['params']):\n",
    "    print(\"%0.6f (+/-%0.04f) for %r\" % (mean, std * 2, params))"
   ]
  },
  {
   "cell_type": "code",
   "execution_count": null,
   "metadata": {},
   "outputs": [],
   "source": [
    "tuning.best_estimator_"
   ]
  },
  {
   "cell_type": "code",
   "execution_count": null,
   "metadata": {},
   "outputs": [],
   "source": [
    "best_est = tuning.best_estimator_"
   ]
  },
  {
   "cell_type": "markdown",
   "metadata": {},
   "source": [
    "### Cross validation"
   ]
  },
  {
   "cell_type": "code",
   "execution_count": 36,
   "metadata": {
    "id": "Ef42jTuxEjnj"
   },
   "outputs": [],
   "source": [
    "df = raw_df.copy()\n",
    "all_labels = np.array(df.loc[:, 'y'])\n",
    "\n",
    "# extract labels\n",
    "y = np.array(df.pop('y'))\n",
    "\n",
    "# extract features\n",
    "X = np.array(df)"
   ]
  },
  {
   "cell_type": "code",
   "execution_count": 37,
   "metadata": {},
   "outputs": [],
   "source": [
    "scaler = MinMaxScaler()\n",
    "X = scaler.fit_transform(X)"
   ]
  },
  {
   "cell_type": "code",
   "execution_count": 327,
   "metadata": {},
   "outputs": [],
   "source": [
    "weights = {0: 3.18, 1: 0.44444444, 2: 3.025}"
   ]
  },
  {
   "cell_type": "code",
   "execution_count": 328,
   "metadata": {},
   "outputs": [],
   "source": [
    "seed = 77\n",
    "svmc = svm.SVC(class_weight=weights,\n",
    "               random_state=seed,\n",
    "               kernel='rbf',\n",
    "               tol=0.001,\n",
    "               gamma=0.057,\n",
    "               degree=6,\n",
    "               decision_function_shape='ovo',\n",
    "               C=0.6225)"
   ]
  },
  {
   "cell_type": "code",
   "execution_count": 329,
   "metadata": {},
   "outputs": [
    {
     "name": "stdout",
     "output_type": "stream",
     "text": [
      "BMAC: 0.68565\n",
      "BMAC: 0.70787\n",
      "BMAC: 0.71343\n",
      "BMAC: 0.71250\n",
      "BMAC: 0.68148\n",
      "CV complete.\n"
     ]
    }
   ],
   "source": [
    "seed = 77\n",
    "\n",
    "skf = StratifiedKFold(n_splits=5, shuffle=True, random_state=seed)\n",
    "\n",
    "score = list()\n",
    "for train_index, val_index in skf.split(X, y):\n",
    "    \n",
    "    #features = X\n",
    "\n",
    "    X_train, X_val = X[train_index], X[val_index]\n",
    "    y_train, y_val = y[train_index], y[val_index]\n",
    "    \n",
    "    # train model\n",
    "    svmc.fit(X_train, y_train)\n",
    "    #best_est.fit(X_train, y_train)\n",
    "    \n",
    "    prediction = svmc.predict(X_val)\n",
    "    #prediction = best_est.predict(X_val)\n",
    "\n",
    "    BMAC = balanced_accuracy_score(y_val, prediction)\n",
    "\n",
    "    score.append(BMAC)\n",
    "    print('BMAC: {:0.5f}'.format(BMAC))\n",
    "\n",
    "print('CV complete.')"
   ]
  },
  {
   "cell_type": "code",
   "execution_count": 330,
   "metadata": {},
   "outputs": [
    {
     "name": "stdout",
     "output_type": "stream",
     "text": [
      "BMAC: 0.7002 (+/- 0.0275)\n"
     ]
    }
   ],
   "source": [
    "print(\"BMAC: %0.4f (+/- %0.4f)\" % (np.mean(score), np.std(score) * 2))"
   ]
  },
  {
   "cell_type": "code",
   "execution_count": 230,
   "metadata": {},
   "outputs": [
    {
     "data": {
      "text/plain": [
       "SVC(C=0.6225, class_weight={0: 3.125, 1: 0.44444444, 2: 3.05},\n",
       "    decision_function_shape='ovo', degree=6, gamma=0.057, random_state=77)"
      ]
     },
     "execution_count": 230,
     "metadata": {},
     "output_type": "execute_result"
    }
   ],
   "source": [
    "svmc.fit(X, y)"
   ]
  },
  {
   "cell_type": "code",
   "execution_count": 231,
   "metadata": {},
   "outputs": [
    {
     "data": {
      "text/plain": [
       "<sklearn.metrics._plot.confusion_matrix.ConfusionMatrixDisplay at 0x7fc880c81dd8>"
      ]
     },
     "execution_count": 231,
     "metadata": {},
     "output_type": "execute_result"
    },
    {
     "data": {
      "image/png": "[encoded data removed]",
      "text/plain": [
       "<Figure size 432x288 with 2 Axes>"
      ]
     },
     "metadata": {
      "needs_background": "light"
     },
     "output_type": "display_data"
    }
   ],
   "source": [
    "plot_confusion_matrix(svmc, X, y)"
   ]
  },
  {
   "cell_type": "markdown",
   "metadata": {},
   "source": [
    "### Predicting on test set"
   ]
  },
  {
   "cell_type": "code",
   "execution_count": 323,
   "metadata": {},
   "outputs": [
    {
     "data": {
      "text/plain": [
       "SVC(C=0.6225, class_weight={0: 3.19, 1: 0.44444444, 2: 3.05},\n",
       "    decision_function_shape='ovo', degree=6, gamma=0.057, random_state=77)"
      ]
     },
     "execution_count": 323,
     "metadata": {},
     "output_type": "execute_result"
    }
   ],
   "source": [
    "svmc.fit(X, y)"
   ]
  },
  {
   "cell_type": "code",
   "execution_count": 324,
   "metadata": {},
   "outputs": [],
   "source": [
    "X_new = pd.read_csv('./data/X_test.csv')\n",
    "X_new = X_new.drop(['id'], axis=1)\n",
    "X_new = scaler.transform(X_new)"
   ]
  },
  {
   "cell_type": "code",
   "execution_count": 325,
   "metadata": {},
   "outputs": [],
   "source": [
    "tuned_svc = svmc.predict(X_new)"
   ]
  },
  {
   "cell_type": "code",
   "execution_count": 326,
   "metadata": {},
   "outputs": [],
   "source": [
    "ID = np.array(range(len(X_new)))\n",
    "df = pd.DataFrame({'id': ID,\n",
    "                    'y': tuned_svc})\n",
    "name = '01_319_04_305.csv'\n",
    "path = os.path.join('.', name)\n",
    "df.to_csv(path, index=False)"
   ]
  },
  {
   "cell_type": "markdown",
   "metadata": {},
   "source": [
    "### Result"
   ]
  },
  {
   "cell_type": "markdown",
   "metadata": {},
   "source": [
    "| BMAC scores | |\n",
    ":- | :-\n",
    "hard baseline | 0.7\n",
    "public test set | 0.7237\n",
    "private test set | 0.6999"
   ]
  },
  {
   "cell_type": "code",
   "execution_count": null,
   "metadata": {},
   "outputs": [],
   "source": []
  }
 ],
 "metadata": {
  "kernelspec": {
   "display_name": "latentspace",
   "language": "python",
   "name": "latentspace"
  },
  "language_info": {
   "codemirror_mode": {
    "name": "ipython",
    "version": 3
   },
   "file_extension": ".py",
   "mimetype": "text/x-python",
   "name": "python",
   "nbconvert_exporter": "python",
   "pygments_lexer": "ipython3",
   "version": "3.6.10"
  }
 },
 "nbformat": 4,
 "nbformat_minor": 4
}
